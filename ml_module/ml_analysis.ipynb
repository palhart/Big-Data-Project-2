{
 "cells": [
  {
   "cell_type": "markdown",
   "metadata": {},
   "source": [
    "# Load Data"
   ]
  },
  {
   "cell_type": "code",
   "execution_count": null,
   "metadata": {},
   "outputs": [],
   "source": [
    "from pyspark.sql import SparkSession\n",
    "\n",
    "spark = SparkSession.builder.appName(\"model\").config(\"fs.defaultFS\", \"file:///\").getOrCreate()\n",
    "spark.sparkContext.setLogLevel(\"ERROR\")\n",
    "\n",
    "df = spark.read.csv(\"/data/BigData/ecommerce_data_with_trends.csv\", header=True)"
   ]
  },
  {
   "cell_type": "code",
   "execution_count": 2,
   "metadata": {},
   "outputs": [
    {
     "name": "stderr",
     "output_type": "stream",
     "text": [
      "[Stage 1:==============>                                            (2 + 6) / 8]\r"
     ]
    },
    {
     "name": "stdout",
     "output_type": "stream",
     "text": [
      "+--------------+---------+-----------+-------------+----+-------------+------------+--------+-----+--------+------------+\n",
      "|transaction_id|timestamp|customer_id|customer_name|city|customer_type|product_name|category|price|quantity|total_amount|\n",
      "+--------------+---------+-----------+-------------+----+-------------+------------+--------+-----+--------+------------+\n",
      "|             0|        0|          0|            0|   0|            0|           0|       0|    0|       0|           0|\n",
      "+--------------+---------+-----------+-------------+----+-------------+------------+--------+-----+--------+------------+\n",
      "\n"
     ]
    },
    {
     "name": "stderr",
     "output_type": "stream",
     "text": [
      "                                                                                \r"
     ]
    }
   ],
   "source": [
    "from pyspark.sql.functions import isnan, when, count, col\n",
    "\n",
    "# Check how many null values and nan values are there in the dataframe\n",
    "df.select([count(when(col(c).isNull() | isnan(c), c)).alias(c) for c in df.columns]).show()"
   ]
  },
  {
   "cell_type": "markdown",
   "metadata": {},
   "source": [
    "# Churn Analysis"
   ]
  },
  {
   "cell_type": "code",
   "execution_count": 9,
   "metadata": {},
   "outputs": [
    {
     "name": "stderr",
     "output_type": "stream",
     "text": [
      "                                                                                \r"
     ]
    }
   ],
   "source": [
    "from churn import CustomerChurnMLAnalysis\n",
    "\n",
    "ml_analysis = CustomerChurnMLAnalysis(spark, df)\n",
    "results = ml_analysis.predict_customer_churn()"
   ]
  },
  {
   "cell_type": "code",
   "execution_count": 35,
   "metadata": {},
   "outputs": [],
   "source": [
    "from pyspark.sql.functions import when\n",
    "\n",
    "def show_df(data):\n",
    "    data = data.withColumn(\"churn\", when(data[\"prediction\"] == 1, \"Yes\").otherwise(\"No\"))\n",
    "    selected_data = data.select(\"customer_id\", \"customer_name\", \"churn\", \"probability\")\n",
    "    # rename column probability to churn_probability\n",
    "    selected_data = selected_data.withColumnRenamed(\"probability\", \"no_churn_probability\")\n",
    "    selected_data.show(5)"
   ]
  },
  {
   "cell_type": "code",
   "execution_count": 36,
   "metadata": {},
   "outputs": [
    {
     "name": "stdout",
     "output_type": "stream",
     "text": [
      "model\n",
      "Logistic Regression:  LogisticRegressionModel: uid=LogisticRegression_35c5285081d5, numClasses=2, numFeatures=5939\n",
      "Random Forest:  RandomForestClassificationModel: uid=RandomForestClassifier_fafae1136393, numTrees=100, numClasses=2, numFeatures=5939\n",
      "\n",
      "predictions\n",
      "Logistic Regression: \n"
     ]
    },
    {
     "name": "stderr",
     "output_type": "stream",
     "text": [
      "                                                                                \r"
     ]
    },
    {
     "name": "stdout",
     "output_type": "stream",
     "text": [
      "+-----------+------------------+-----+--------------------+\n",
      "|customer_id|     customer_name|churn|no_churn_probability|\n",
      "+-----------+------------------+-----+--------------------+\n",
      "|       1009|Mr. Martin Hammond|  Yes|[0.00997593722542...|\n",
      "|       1020|   Kenneth Shannon|   No|[0.97610258607153...|\n",
      "|       1044|       Jaime Mccoy|   No|[0.98422255834904...|\n",
      "|       1047|      Nathan Smith|  Yes|[0.41448368804177...|\n",
      "|       1052|     Cynthia Hardy|   No|[0.97438225178038...|\n",
      "+-----------+------------------+-----+--------------------+\n",
      "only showing top 5 rows\n",
      "\n",
      "Random Forest: \n"
     ]
    },
    {
     "name": "stderr",
     "output_type": "stream",
     "text": [
      "                                                                                \r"
     ]
    },
    {
     "name": "stdout",
     "output_type": "stream",
     "text": [
      "+-----------+------------------+-----+--------------------+\n",
      "|customer_id|     customer_name|churn|no_churn_probability|\n",
      "+-----------+------------------+-----+--------------------+\n",
      "|       1009|Mr. Martin Hammond|  Yes|[0.36234966349211...|\n",
      "|       1020|   Kenneth Shannon|   No|[0.63745384356571...|\n",
      "|       1044|       Jaime Mccoy|   No|[0.63796587612413...|\n",
      "|       1047|      Nathan Smith|   No|[0.64450067606025...|\n",
      "|       1052|     Cynthia Hardy|   No|[0.63620256546921...|\n",
      "+-----------+------------------+-----+--------------------+\n",
      "only showing top 5 rows\n",
      "\n",
      "\n",
      "auc\n",
      "Logistic Regression:  0.9986777148021334\n",
      "Random Forest:  0.9999347772737744\n",
      "\n",
      "f1_score\n",
      "Logistic Regression:  0.9897245325726998\n",
      "Random Forest:  0.9914366733548089\n",
      "\n",
      "churn_summary\n",
      "Logistic Regression: \n"
     ]
    },
    {
     "name": "stderr",
     "output_type": "stream",
     "text": [
      "                                                                                \r"
     ]
    },
    {
     "name": "stdout",
     "output_type": "stream",
     "text": [
      "+-----+-----+------------------+-------------------+------------------+\n",
      "|churn|count|  avg_transactions|avg_purchase_amount|  avg_recency_days|\n",
      "+-----+-----+------------------+-------------------+------------------+\n",
      "|    1| 1439| 99.43849895760945|  187357.4043432939|44.704656011118836|\n",
      "|    0| 1481|100.17758271438217|  2845587.969061445|   44.474679270763|\n",
      "+-----+-----+------------------+-------------------+------------------+\n",
      "\n",
      "Random Forest: \n"
     ]
    },
    {
     "name": "stderr",
     "output_type": "stream",
     "text": [
      "                                                                                \r"
     ]
    },
    {
     "name": "stdout",
     "output_type": "stream",
     "text": [
      "+-----+-----+------------------+-------------------+------------------+\n",
      "|churn|count|  avg_transactions|avg_purchase_amount|  avg_recency_days|\n",
      "+-----+-----+------------------+-------------------+------------------+\n",
      "|    1| 1439| 99.43849895760945|  187357.4043432939|44.704656011118836|\n",
      "|    0| 1481|100.17758271438217|  2845587.969061445|   44.474679270763|\n",
      "+-----+-----+------------------+-------------------+------------------+\n",
      "\n",
      "\n",
      "+--------------------+--------------------+\n",
      "|             feature|          importance|\n",
      "+--------------------+--------------------+\n",
      "|  total_transactions|  0.9807472807563129|\n",
      "|avg_transaction_a...|  0.9785498605916242|\n",
      "|total_purchase_am...| 0.11087225335238715|\n",
      "|       customer_type|0.023765726589668437|\n",
      "|   unique_categories|0.014317281099024397|\n",
      "|                city|0.005907662397976032|\n",
      "|        recency_days|0.002846807456497...|\n",
      "|unique_products_p...|6.785285376679078E-4|\n",
      "+--------------------+--------------------+\n",
      "\n"
     ]
    }
   ],
   "source": [
    "lr =  results['logistic_regression']\n",
    "rf = results['random_forest']\n",
    "\n",
    "for key in rf.keys():\n",
    "    if key == 'predictions':\n",
    "        print(key)\n",
    "        print('Logistic Regression: ')\n",
    "        show_df(lr[key])\n",
    "        print('Random Forest: ')\n",
    "        show_df(rf[key])\n",
    "    elif key == 'churn_summary'or key == 'feature_importance':\n",
    "        print(key)\n",
    "        print('Logistic Regression: ')\n",
    "        lr[key].show()\n",
    "        print('Random Forest: ')\n",
    "        rf[key].show()\n",
    "    else:\n",
    "        print(key)\n",
    "        print('Logistic Regression: ', lr[key])\n",
    "        print('Random Forest: ', rf[key])\n",
    "    print('')\n",
    "\n",
    "lr['feature_importance'].show()"
   ]
  },
  {
   "cell_type": "markdown",
   "metadata": {},
   "source": [
    "# Customer Segmentation"
   ]
  },
  {
   "cell_type": "code",
   "execution_count": 5,
   "metadata": {},
   "outputs": [
    {
     "name": "stdout",
     "output_type": "stream",
     "text": [
      "For k = 2\n"
     ]
    },
    {
     "name": "stderr",
     "output_type": "stream",
     "text": [
      "                                                                                \r"
     ]
    },
    {
     "name": "stdout",
     "output_type": "stream",
     "text": [
      "Customer Segment Summary:\n"
     ]
    },
    {
     "name": "stderr",
     "output_type": "stream",
     "text": [
      "                                                                                \r"
     ]
    },
    {
     "name": "stdout",
     "output_type": "stream",
     "text": [
      "+-------+--------------+-------------------+------------------+---------------------+------------------+\n",
      "|cluster|customer_count|avg_purchase_amount|purchase_frequency|avg_purchase_quantity|category_diversity|\n",
      "+-------+--------------+-------------------+------------------+---------------------+------------------+\n",
      "|      1|          4885| 1543.4752014939297| 99.97113613101331|   3.0249228363227187|26.276356192425794|\n",
      "|      0|          5115|  28347.14817834009| 100.0275659824047|    55.59189134257418|26.278787878787877|\n",
      "+-------+--------------+-------------------+------------------+---------------------+------------------+\n",
      "\n"
     ]
    },
    {
     "name": "stderr",
     "output_type": "stream",
     "text": [
      "                                                                                \r"
     ]
    },
    {
     "name": "stdout",
     "output_type": "stream",
     "text": [
      "Silhouette Score : 0.6777447519527025\n",
      "\n",
      "For k = 3\n"
     ]
    },
    {
     "name": "stderr",
     "output_type": "stream",
     "text": [
      "                                                                                \r"
     ]
    },
    {
     "name": "stdout",
     "output_type": "stream",
     "text": [
      "Customer Segment Summary:\n"
     ]
    },
    {
     "name": "stderr",
     "output_type": "stream",
     "text": [
      "                                                                                \r"
     ]
    },
    {
     "name": "stdout",
     "output_type": "stream",
     "text": [
      "+-------+--------------+-------------------+------------------+---------------------+------------------+\n",
      "|cluster|customer_count|avg_purchase_amount|purchase_frequency|avg_purchase_quantity|category_diversity|\n",
      "+-------+--------------+-------------------+------------------+---------------------+------------------+\n",
      "|      1|          4882| 1543.4705159507091|  99.9877099549365|    3.024950388004315|26.279188857025808|\n",
      "|      2|          2877| 28401.636453219035| 105.4045881126173|    55.65560589187904| 27.00590893291623|\n",
      "|      0|          2241| 28241.324478681272| 93.08835341365462|   55.439663689214555|25.339134315037928|\n",
      "+-------+--------------+-------------------+------------------+---------------------+------------------+\n",
      "\n"
     ]
    },
    {
     "name": "stderr",
     "output_type": "stream",
     "text": [
      "                                                                                \r"
     ]
    },
    {
     "name": "stdout",
     "output_type": "stream",
     "text": [
      "Silhouette Score : 0.5740927216216798\n",
      "\n",
      "For k = 4\n"
     ]
    },
    {
     "name": "stderr",
     "output_type": "stream",
     "text": [
      "                                                                                \r"
     ]
    },
    {
     "name": "stdout",
     "output_type": "stream",
     "text": [
      "Customer Segment Summary:\n"
     ]
    },
    {
     "name": "stderr",
     "output_type": "stream",
     "text": [
      "                                                                                \r"
     ]
    },
    {
     "name": "stdout",
     "output_type": "stream",
     "text": [
      "+-------+--------------+-------------------+------------------+---------------------+------------------+\n",
      "|cluster|customer_count|avg_purchase_amount|purchase_frequency|avg_purchase_quantity|category_diversity|\n",
      "+-------+--------------+-------------------+------------------+---------------------+------------------+\n",
      "|      1|          2737| 1545.9911446701722|105.78187796857874|   3.0260181385668035|26.970770917062477|\n",
      "|      3|          2148| 1540.2693651469194| 92.56703910614524|    3.023527192820815|25.391527001862197|\n",
      "|      2|          2877| 28401.636453219035| 105.4045881126173|    55.65560589187904| 27.00590893291623|\n",
      "|      0|          2238| 28277.102259293224| 93.11528150134048|   55.509984837502415|25.344057193923145|\n",
      "+-------+--------------+-------------------+------------------+---------------------+------------------+\n",
      "\n"
     ]
    },
    {
     "name": "stderr",
     "output_type": "stream",
     "text": [
      "                                                                                \r"
     ]
    },
    {
     "name": "stdout",
     "output_type": "stream",
     "text": [
      "Silhouette Score : 0.5293196813077646\n",
      "\n",
      "For k = 5\n"
     ]
    },
    {
     "name": "stderr",
     "output_type": "stream",
     "text": [
      "                                                                                \r"
     ]
    },
    {
     "name": "stdout",
     "output_type": "stream",
     "text": [
      "Customer Segment Summary:\n"
     ]
    },
    {
     "name": "stderr",
     "output_type": "stream",
     "text": [
      "                                                                                \r"
     ]
    },
    {
     "name": "stdout",
     "output_type": "stream",
     "text": [
      "+-------+--------------+-------------------+------------------+---------------------+------------------+\n",
      "|cluster|customer_count|avg_purchase_amount|purchase_frequency|avg_purchase_quantity|category_diversity|\n",
      "+-------+--------------+-------------------+------------------+---------------------+------------------+\n",
      "|      1|          1824| 1546.1282482833617|109.86677631578948|   3.0239897157888804| 26.90734649122807|\n",
      "|      3|          1110| 1545.2643157988434| 94.21171171171171|   3.0259338128028297| 24.52882882882883|\n",
      "|      4|          1951| 1539.9769574025004| 93.99641209636084|    3.025220031587083|26.680676576114813|\n",
      "|      2|          2297| 28288.262996056514| 93.31780583369613|    55.51650647508103|25.360905528950806|\n",
      "|      0|          2818| 28395.146497610942|105.49680624556423|    55.65333883747527|27.026969481902057|\n",
      "+-------+--------------+-------------------+------------------+---------------------+------------------+\n",
      "\n"
     ]
    },
    {
     "name": "stderr",
     "output_type": "stream",
     "text": [
      "[Stage 749:=====================>                                   (3 + 5) / 8]\r"
     ]
    },
    {
     "name": "stdout",
     "output_type": "stream",
     "text": [
      "Silhouette Score : 0.5189754506003516\n",
      "\n"
     ]
    },
    {
     "name": "stderr",
     "output_type": "stream",
     "text": [
      "                                                                                \r"
     ]
    }
   ],
   "source": [
    "from pyspark.ml.evaluation import ClusteringEvaluator\n",
    "from customer_segmentation import CustomerSegmentation\n",
    "\n",
    "segmentation = CustomerSegmentation(spark, df)\n",
    "\n",
    "evaluator_silhouette = ClusteringEvaluator(featuresCol='scaled_features', predictionCol='cluster', metricName='silhouette')\n",
    "\n",
    "for k in range(2, 6):\n",
    "    print(\"For k =\", k)\n",
    "    results = segmentation.segment_customers(n_clusters=k)\n",
    "    clustered_customers = results['clustered_customers']\n",
    "\n",
    "    silhouette_score = evaluator_silhouette.evaluate(clustered_customers)\n",
    "    print(f\"Silhouette Score : {silhouette_score}\\n\")"
   ]
  }
 ],
 "metadata": {
  "kernelspec": {
   "display_name": ".venv",
   "language": "python",
   "name": "python3"
  },
  "language_info": {
   "codemirror_mode": {
    "name": "ipython",
    "version": 3
   },
   "file_extension": ".py",
   "mimetype": "text/x-python",
   "name": "python",
   "nbconvert_exporter": "python",
   "pygments_lexer": "ipython3",
   "version": "3.11.10"
  }
 },
 "nbformat": 4,
 "nbformat_minor": 2
}

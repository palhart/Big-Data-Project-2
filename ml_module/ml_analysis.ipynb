{
 "cells": [
  {
   "cell_type": "markdown",
   "metadata": {},
   "source": [
    "# Load Data"
   ]
  },
  {
   "cell_type": "code",
   "execution_count": null,
   "metadata": {},
   "outputs": [],
   "source": [
    "from pyspark.sql import SparkSession\n",
    "\n",
    "spark = SparkSession.builder.appName(\"model\").config(\"fs.defaultFS\", \"file:///\").getOrCreate()\n",
    "spark.sparkContext.setLogLevel(\"ERROR\")\n",
    "\n",
    "df = spark.read.csv(\"/data/BigData/ecommerce_data_with_trends.csv\", header=True)"
   ]
  },
  {
   "cell_type": "code",
   "execution_count": 2,
   "metadata": {},
   "outputs": [
    {
     "name": "stderr",
     "output_type": "stream",
     "text": [
      "[Stage 1:==============>                                            (2 + 6) / 8]\r"
     ]
    },
    {
     "name": "stdout",
     "output_type": "stream",
     "text": [
      "+--------------+---------+-----------+-------------+----+-------------+------------+--------+-----+--------+------------+\n",
      "|transaction_id|timestamp|customer_id|customer_name|city|customer_type|product_name|category|price|quantity|total_amount|\n",
      "+--------------+---------+-----------+-------------+----+-------------+------------+--------+-----+--------+------------+\n",
      "|             0|        0|          0|            0|   0|            0|           0|       0|    0|       0|           0|\n",
      "+--------------+---------+-----------+-------------+----+-------------+------------+--------+-----+--------+------------+\n",
      "\n"
     ]
    },
    {
     "name": "stderr",
     "output_type": "stream",
     "text": [
      "                                                                                \r"
     ]
    }
   ],
   "source": [
    "from pyspark.sql.functions import isnan, when, count, col\n",
    "\n",
    "# Check how many null values and nan values are there in the dataframe\n",
    "df.select([count(when(col(c).isNull() | isnan(c), c)).alias(c) for c in df.columns]).show()"
   ]
  },
  {
   "cell_type": "markdown",
   "metadata": {},
   "source": [
    "# Churn Analysis"
   ]
  },
  {
   "cell_type": "code",
   "execution_count": 3,
   "metadata": {},
   "outputs": [
    {
     "name": "stderr",
     "output_type": "stream",
     "text": [
      "                                                                                \r"
     ]
    }
   ],
   "source": [
    "from churn import CustomerChurnMLAnalysis\n",
    "\n",
    "ml_analysis = CustomerChurnMLAnalysis(spark, df)\n",
    "results = ml_analysis.predict_customer_churn()"
   ]
  },
  {
   "cell_type": "code",
   "execution_count": 4,
   "metadata": {},
   "outputs": [
    {
     "name": "stdout",
     "output_type": "stream",
     "text": [
      "model\n",
      "Logistic Regression:  LogisticRegressionModel: uid=LogisticRegression_2ff427f3f026, numClasses=2, numFeatures=5939\n",
      "Random Forest:  RandomForestClassificationModel: uid=RandomForestClassifier_646104586f9b, numTrees=100, numClasses=2, numFeatures=5939\n",
      "\n",
      "predictions\n",
      "Logistic Regression: \n"
     ]
    },
    {
     "name": "stderr",
     "output_type": "stream",
     "text": [
      "                                                                                \r"
     ]
    },
    {
     "name": "stdout",
     "output_type": "stream",
     "text": [
      "+-----------+------------------+------------------+-------------+------------------+----------------------+---------------------+--------------------+-------------------------+-----------------+------------+-----+------------------------+-------------------------------+-----------------------+-------------------+----------+--------------------------+---------------------------------+-------------------------+---------------------+-------------------+--------------------+--------------------+--------------------+--------------------+----------+\n",
      "|customer_id|     customer_name|              city|customer_type|total_transactions|avg_transaction_amount|total_purchase_amount|  last_purchase_date|unique_products_purchased|unique_categories|recency_days|churn|total_transactions_index|unique_products_purchased_index|unique_categories_index|customer_type_index|city_index|total_transactions_encoded|unique_products_purchased_encoded|unique_categories_encoded|customer_type_encoded|       city_encoded|            features|     scaled_features|       rawPrediction|         probability|prediction|\n",
      "+-----------+------------------+------------------+-------------+------------------+----------------------+---------------------+--------------------+-------------------------+-----------------+------------+-----+------------------------+-------------------------------+-----------------------+-------------------+----------+--------------------------+---------------------------------+-------------------------+---------------------+-------------------+--------------------+--------------------+--------------------+--------------------+----------+\n",
      "|       1009|Mr. Martin Hammond|      Joyceborough|          B2C|                88|    1640.7885227272725|   144389.38999999998|2024-10-25 07:03:...|                       76|               26|          45|    1|                    22.0|                           22.0|                    1.0|                1.0|    2365.0|           (71,[22],[1.0])|                  (59,[22],[1.0])|            (8,[1],[1.0])|        (2,[1],[1.0])|(5796,[2365],[1.0])|(5939,[0,1,2,25,9...|(5939,[0,1,2,25,9...|[-4.5975533328674...|[0.00997593722542...|       1.0|\n",
      "|       1020|   Kenneth Shannon|Lake Adrianborough|          B2B|                90|    30462.060222222222|           2741585.42|2024-10-26 04:15:...|                       77|               26|          44|    0|                    17.0|                           20.0|                    1.0|                0.0|    5796.0|           (71,[17],[1.0])|                  (59,[20],[1.0])|            (8,[1],[1.0])|        (2,[0],[1.0])|       (5796,[],[])|(5939,[0,1,2,20,9...|(5939,[0,1,2,20,9...|[3.70979744031618...|[0.97610258607153...|       0.0|\n",
      "|       1044|       Jaime Mccoy|     Morenoborough|          B2B|                97|    29622.098453608247|           2873343.55|2024-10-26 02:09:...|                       84|               26|          44|    0|                     5.0|                            4.0|                    1.0|                0.0|    5796.0|            (71,[5],[1.0])|                   (59,[4],[1.0])|            (8,[1],[1.0])|        (2,[0],[1.0])|       (5796,[],[])|(5939,[0,1,2,8,78...|(5939,[0,1,2,8,78...|[4.13327087243651...|[0.98422255834904...|       0.0|\n",
      "|       1047|      Nathan Smith|      Lake Deborah|          B2B|               102|    29135.469411764705|           2971817.88|2024-10-23 01:57:...|                       83|               26|          47|    0|                     7.0|                            2.0|                    1.0|                0.0|     500.0|            (71,[7],[1.0])|                   (59,[2],[1.0])|            (8,[1],[1.0])|        (2,[0],[1.0])| (5796,[500],[1.0])|(5939,[0,1,2,10,7...|(5939,[0,1,2,10,7...|[-0.3454604220631...|[0.41448368804177...|       1.0|\n",
      "|       1052|     Cynthia Hardy|        Landryfort|          B2B|                96|     27807.86260416667|           2669554.81|2024-10-25 22:30:...|                       86|               28|          45|    0|                     8.0|                            3.0|                    3.0|                0.0|    5796.0|            (71,[8],[1.0])|                   (59,[3],[1.0])|            (8,[3],[1.0])|        (2,[0],[1.0])|       (5796,[],[])|(5939,[0,1,2,11,7...|(5939,[0,1,2,11,7...|[3.63851828117864...|[0.97438225178038...|       0.0|\n",
      "+-----------+------------------+------------------+-------------+------------------+----------------------+---------------------+--------------------+-------------------------+-----------------+------------+-----+------------------------+-------------------------------+-----------------------+-------------------+----------+--------------------------+---------------------------------+-------------------------+---------------------+-------------------+--------------------+--------------------+--------------------+--------------------+----------+\n",
      "only showing top 5 rows\n",
      "\n",
      "Random Forest: \n"
     ]
    },
    {
     "name": "stderr",
     "output_type": "stream",
     "text": [
      "                                                                                \r"
     ]
    },
    {
     "name": "stdout",
     "output_type": "stream",
     "text": [
      "+-----------+------------------+------------------+-------------+------------------+----------------------+---------------------+--------------------+-------------------------+-----------------+------------+-----+------------------------+-------------------------------+-----------------------+-------------------+----------+--------------------------+---------------------------------+-------------------------+---------------------+-------------------+--------------------+--------------------+--------------------+--------------------+----------+\n",
      "|customer_id|     customer_name|              city|customer_type|total_transactions|avg_transaction_amount|total_purchase_amount|  last_purchase_date|unique_products_purchased|unique_categories|recency_days|churn|total_transactions_index|unique_products_purchased_index|unique_categories_index|customer_type_index|city_index|total_transactions_encoded|unique_products_purchased_encoded|unique_categories_encoded|customer_type_encoded|       city_encoded|            features|     scaled_features|       rawPrediction|         probability|prediction|\n",
      "+-----------+------------------+------------------+-------------+------------------+----------------------+---------------------+--------------------+-------------------------+-----------------+------------+-----+------------------------+-------------------------------+-----------------------+-------------------+----------+--------------------------+---------------------------------+-------------------------+---------------------+-------------------+--------------------+--------------------+--------------------+--------------------+----------+\n",
      "|       1009|Mr. Martin Hammond|      Joyceborough|          B2C|                88|    1640.7885227272725|   144389.38999999998|2024-10-25 07:03:...|                       76|               26|          45|    1|                    22.0|                           22.0|                    1.0|                1.0|    2365.0|           (71,[22],[1.0])|                  (59,[22],[1.0])|            (8,[1],[1.0])|        (2,[1],[1.0])|(5796,[2365],[1.0])|(5939,[0,1,2,25,9...|(5939,[0,1,2,25,9...|[36.2349663492115...|[0.36234966349211...|       1.0|\n",
      "|       1020|   Kenneth Shannon|Lake Adrianborough|          B2B|                90|    30462.060222222222|           2741585.42|2024-10-26 04:15:...|                       77|               26|          44|    0|                    17.0|                           20.0|                    1.0|                0.0|    5796.0|           (71,[17],[1.0])|                  (59,[20],[1.0])|            (8,[1],[1.0])|        (2,[0],[1.0])|       (5796,[],[])|(5939,[0,1,2,20,9...|(5939,[0,1,2,20,9...|[63.7453843565711...|[0.63745384356571...|       0.0|\n",
      "|       1044|       Jaime Mccoy|     Morenoborough|          B2B|                97|    29622.098453608247|           2873343.55|2024-10-26 02:09:...|                       84|               26|          44|    0|                     5.0|                            4.0|                    1.0|                0.0|    5796.0|            (71,[5],[1.0])|                   (59,[4],[1.0])|            (8,[1],[1.0])|        (2,[0],[1.0])|       (5796,[],[])|(5939,[0,1,2,8,78...|(5939,[0,1,2,8,78...|[63.7965876124134...|[0.63796587612413...|       0.0|\n",
      "|       1047|      Nathan Smith|      Lake Deborah|          B2B|               102|    29135.469411764705|           2971817.88|2024-10-23 01:57:...|                       83|               26|          47|    0|                     7.0|                            2.0|                    1.0|                0.0|     500.0|            (71,[7],[1.0])|                   (59,[2],[1.0])|            (8,[1],[1.0])|        (2,[0],[1.0])| (5796,[500],[1.0])|(5939,[0,1,2,10,7...|(5939,[0,1,2,10,7...|[64.4500676060257...|[0.64450067606025...|       0.0|\n",
      "|       1052|     Cynthia Hardy|        Landryfort|          B2B|                96|     27807.86260416667|           2669554.81|2024-10-25 22:30:...|                       86|               28|          45|    0|                     8.0|                            3.0|                    3.0|                0.0|    5796.0|            (71,[8],[1.0])|                   (59,[3],[1.0])|            (8,[3],[1.0])|        (2,[0],[1.0])|       (5796,[],[])|(5939,[0,1,2,11,7...|(5939,[0,1,2,11,7...|[63.6202565469219...|[0.63620256546921...|       0.0|\n",
      "+-----------+------------------+------------------+-------------+------------------+----------------------+---------------------+--------------------+-------------------------+-----------------+------------+-----+------------------------+-------------------------------+-----------------------+-------------------+----------+--------------------------+---------------------------------+-------------------------+---------------------+-------------------+--------------------+--------------------+--------------------+--------------------+----------+\n",
      "only showing top 5 rows\n",
      "\n",
      "\n",
      "auc\n",
      "Logistic Regression:  0.9996577660757046\n",
      "Random Forest:  0.9999347772737744\n",
      "\n",
      "f1_score\n",
      "Logistic Regression:  0.9897245325726998\n",
      "Random Forest:  0.9914366733548089\n",
      "\n",
      "churn_summary\n",
      "Logistic Regression: \n"
     ]
    },
    {
     "name": "stderr",
     "output_type": "stream",
     "text": [
      "                                                                                \r"
     ]
    },
    {
     "name": "stdout",
     "output_type": "stream",
     "text": [
      "+-----+-----+------------------+-------------------+------------------+\n",
      "|churn|count|  avg_transactions|avg_purchase_amount|  avg_recency_days|\n",
      "+-----+-----+------------------+-------------------+------------------+\n",
      "|    1| 1439| 99.43849895760945|  187357.4043432939|44.704656011118836|\n",
      "|    0| 1481|100.17758271438217|  2845587.969061445|   44.474679270763|\n",
      "+-----+-----+------------------+-------------------+------------------+\n",
      "\n",
      "Random Forest: \n"
     ]
    },
    {
     "name": "stderr",
     "output_type": "stream",
     "text": [
      "                                                                                \r"
     ]
    },
    {
     "name": "stdout",
     "output_type": "stream",
     "text": [
      "+-----+-----+------------------+-------------------+------------------+\n",
      "|churn|count|  avg_transactions|avg_purchase_amount|  avg_recency_days|\n",
      "+-----+-----+------------------+-------------------+------------------+\n",
      "|    1| 1453|  99.5746730901583| 185916.19849965585|44.630419821059874|\n",
      "|    0| 1463|100.40328092959672|  2847473.715290499| 44.51127819548872|\n",
      "+-----+-----+------------------+-------------------+------------------+\n",
      "\n",
      "\n"
     ]
    },
    {
     "name": "stderr",
     "output_type": "stream",
     "text": [
      "[Stage 290:>                                                        (0 + 8) / 8]\r"
     ]
    },
    {
     "name": "stdout",
     "output_type": "stream",
     "text": [
      "+--------------------+--------------------+\n",
      "|             feature|          importance|\n",
      "+--------------------+--------------------+\n",
      "|  total_transactions|  0.9807472807563131|\n",
      "|avg_transaction_a...|  0.9785498605916241|\n",
      "|total_purchase_am...| 0.11087225335238694|\n",
      "|       customer_type|0.023765726589668443|\n",
      "|   unique_categories|0.014317281099024387|\n",
      "|                city|0.005907662397976051|\n",
      "|        recency_days|0.002846807456497...|\n",
      "|unique_products_p...|6.785285376678906E-4|\n",
      "+--------------------+--------------------+\n",
      "\n"
     ]
    },
    {
     "name": "stderr",
     "output_type": "stream",
     "text": [
      "                                                                                \r"
     ]
    }
   ],
   "source": [
    "lr =  results['logistic_regression']\n",
    "rf = results['random_forest']\n",
    "\n",
    "for key in rf.keys():\n",
    "    if key == 'predictions' or key == 'churn_summary'or key == 'feature_importance':\n",
    "        print(key)\n",
    "        print('Logistic Regression: ')\n",
    "        lr[key].show(5)\n",
    "        print('Random Forest: ')\n",
    "        rf[key].show(5)\n",
    "    else:\n",
    "        print(key)\n",
    "        print('Logistic Regression: ', lr[key])\n",
    "        print('Random Forest: ', rf[key])\n",
    "    print('')\n",
    "\n",
    "lr['feature_importance'].show()\n"
   ]
  },
  {
   "cell_type": "markdown",
   "metadata": {},
   "source": [
    "# Customer Segmentation"
   ]
  },
  {
   "cell_type": "code",
   "execution_count": 5,
   "metadata": {},
   "outputs": [
    {
     "name": "stdout",
     "output_type": "stream",
     "text": [
      "For k = 2\n"
     ]
    },
    {
     "name": "stderr",
     "output_type": "stream",
     "text": [
      "                                                                                \r"
     ]
    },
    {
     "name": "stdout",
     "output_type": "stream",
     "text": [
      "Customer Segment Summary:\n"
     ]
    },
    {
     "name": "stderr",
     "output_type": "stream",
     "text": [
      "                                                                                \r"
     ]
    },
    {
     "name": "stdout",
     "output_type": "stream",
     "text": [
      "+-------+--------------+-------------------+------------------+---------------------+------------------+\n",
      "|cluster|customer_count|avg_purchase_amount|purchase_frequency|avg_purchase_quantity|category_diversity|\n",
      "+-------+--------------+-------------------+------------------+---------------------+------------------+\n",
      "|      1|          4885| 1543.4752014939297| 99.97113613101331|   3.0249228363227187|26.276356192425794|\n",
      "|      0|          5115|  28347.14817834009| 100.0275659824047|    55.59189134257418|26.278787878787877|\n",
      "+-------+--------------+-------------------+------------------+---------------------+------------------+\n",
      "\n"
     ]
    },
    {
     "name": "stderr",
     "output_type": "stream",
     "text": [
      "                                                                                \r"
     ]
    },
    {
     "name": "stdout",
     "output_type": "stream",
     "text": [
      "Silhouette Score : 0.6777447519527025\n",
      "\n",
      "For k = 3\n"
     ]
    },
    {
     "name": "stderr",
     "output_type": "stream",
     "text": [
      "                                                                                \r"
     ]
    },
    {
     "name": "stdout",
     "output_type": "stream",
     "text": [
      "Customer Segment Summary:\n"
     ]
    },
    {
     "name": "stderr",
     "output_type": "stream",
     "text": [
      "                                                                                \r"
     ]
    },
    {
     "name": "stdout",
     "output_type": "stream",
     "text": [
      "+-------+--------------+-------------------+------------------+---------------------+------------------+\n",
      "|cluster|customer_count|avg_purchase_amount|purchase_frequency|avg_purchase_quantity|category_diversity|\n",
      "+-------+--------------+-------------------+------------------+---------------------+------------------+\n",
      "|      1|          4882| 1543.4705159507091|  99.9877099549365|    3.024950388004315|26.279188857025808|\n",
      "|      2|          2877| 28401.636453219035| 105.4045881126173|    55.65560589187904| 27.00590893291623|\n",
      "|      0|          2241| 28241.324478681272| 93.08835341365462|   55.439663689214555|25.339134315037928|\n",
      "+-------+--------------+-------------------+------------------+---------------------+------------------+\n",
      "\n"
     ]
    },
    {
     "name": "stderr",
     "output_type": "stream",
     "text": [
      "                                                                                \r"
     ]
    },
    {
     "name": "stdout",
     "output_type": "stream",
     "text": [
      "Silhouette Score : 0.5740927216216798\n",
      "\n",
      "For k = 4\n"
     ]
    },
    {
     "name": "stderr",
     "output_type": "stream",
     "text": [
      "                                                                                \r"
     ]
    },
    {
     "name": "stdout",
     "output_type": "stream",
     "text": [
      "Customer Segment Summary:\n"
     ]
    },
    {
     "name": "stderr",
     "output_type": "stream",
     "text": [
      "                                                                                \r"
     ]
    },
    {
     "name": "stdout",
     "output_type": "stream",
     "text": [
      "+-------+--------------+-------------------+------------------+---------------------+------------------+\n",
      "|cluster|customer_count|avg_purchase_amount|purchase_frequency|avg_purchase_quantity|category_diversity|\n",
      "+-------+--------------+-------------------+------------------+---------------------+------------------+\n",
      "|      1|          2737| 1545.9911446701722|105.78187796857874|   3.0260181385668035|26.970770917062477|\n",
      "|      3|          2148| 1540.2693651469194| 92.56703910614524|    3.023527192820815|25.391527001862197|\n",
      "|      2|          2877| 28401.636453219035| 105.4045881126173|    55.65560589187904| 27.00590893291623|\n",
      "|      0|          2238| 28277.102259293224| 93.11528150134048|   55.509984837502415|25.344057193923145|\n",
      "+-------+--------------+-------------------+------------------+---------------------+------------------+\n",
      "\n"
     ]
    },
    {
     "name": "stderr",
     "output_type": "stream",
     "text": [
      "                                                                                \r"
     ]
    },
    {
     "name": "stdout",
     "output_type": "stream",
     "text": [
      "Silhouette Score : 0.5293196813077646\n",
      "\n",
      "For k = 5\n"
     ]
    },
    {
     "name": "stderr",
     "output_type": "stream",
     "text": [
      "                                                                                \r"
     ]
    },
    {
     "name": "stdout",
     "output_type": "stream",
     "text": [
      "Customer Segment Summary:\n"
     ]
    },
    {
     "name": "stderr",
     "output_type": "stream",
     "text": [
      "                                                                                \r"
     ]
    },
    {
     "name": "stdout",
     "output_type": "stream",
     "text": [
      "+-------+--------------+-------------------+------------------+---------------------+------------------+\n",
      "|cluster|customer_count|avg_purchase_amount|purchase_frequency|avg_purchase_quantity|category_diversity|\n",
      "+-------+--------------+-------------------+------------------+---------------------+------------------+\n",
      "|      1|          1824| 1546.1282482833617|109.86677631578948|   3.0239897157888804| 26.90734649122807|\n",
      "|      3|          1110| 1545.2643157988434| 94.21171171171171|   3.0259338128028297| 24.52882882882883|\n",
      "|      4|          1951| 1539.9769574025004| 93.99641209636084|    3.025220031587083|26.680676576114813|\n",
      "|      2|          2297| 28288.262996056514| 93.31780583369613|    55.51650647508103|25.360905528950806|\n",
      "|      0|          2818| 28395.146497610942|105.49680624556423|    55.65333883747527|27.026969481902057|\n",
      "+-------+--------------+-------------------+------------------+---------------------+------------------+\n",
      "\n"
     ]
    },
    {
     "name": "stderr",
     "output_type": "stream",
     "text": [
      "[Stage 749:=====================>                                   (3 + 5) / 8]\r"
     ]
    },
    {
     "name": "stdout",
     "output_type": "stream",
     "text": [
      "Silhouette Score : 0.5189754506003516\n",
      "\n"
     ]
    },
    {
     "name": "stderr",
     "output_type": "stream",
     "text": [
      "                                                                                \r"
     ]
    }
   ],
   "source": [
    "from pyspark.ml.evaluation import ClusteringEvaluator\n",
    "from customer_segmentation import CustomerSegmentation\n",
    "\n",
    "segmentation = CustomerSegmentation(spark, df)\n",
    "\n",
    "evaluator_silhouette = ClusteringEvaluator(featuresCol='scaled_features', predictionCol='cluster', metricName='silhouette')\n",
    "\n",
    "for k in range(2, 6):\n",
    "    print(\"For k =\", k)\n",
    "    results = segmentation.segment_customers(n_clusters=k)\n",
    "    clustered_customers = results['clustered_customers']\n",
    "\n",
    "    silhouette_score = evaluator_silhouette.evaluate(clustered_customers)\n",
    "    print(f\"Silhouette Score : {silhouette_score}\\n\")"
   ]
  }
 ],
 "metadata": {
  "kernelspec": {
   "display_name": ".venv",
   "language": "python",
   "name": "python3"
  },
  "language_info": {
   "codemirror_mode": {
    "name": "ipython",
    "version": 3
   },
   "file_extension": ".py",
   "mimetype": "text/x-python",
   "name": "python",
   "nbconvert_exporter": "python",
   "pygments_lexer": "ipython3",
   "version": "3.11.10"
  }
 },
 "nbformat": 4,
 "nbformat_minor": 2
}

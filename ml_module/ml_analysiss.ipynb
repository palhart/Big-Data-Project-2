{
 "cells": [
  {
   "cell_type": "markdown",
   "metadata": {},
   "source": [
    "# Load Data"
   ]
  },
  {
   "cell_type": "code",
   "execution_count": 1,
   "metadata": {},
   "outputs": [
    {
     "name": "stderr",
     "output_type": "stream",
     "text": [
      "Warning: Ignoring non-Spark config property: fs.defaultFS\n",
      "24/12/08 02:06:40 WARN Utils: Your hostname, flo-ubuntu resolves to a loopback address: 127.0.1.1; using 192.168.1.162 instead (on interface wlp3s0)\n",
      "24/12/08 02:06:40 WARN Utils: Set SPARK_LOCAL_IP if you need to bind to another address\n",
      "Setting default log level to \"WARN\".\n",
      "To adjust logging level use sc.setLogLevel(newLevel). For SparkR, use setLogLevel(newLevel).\n",
      "24/12/08 02:06:41 WARN NativeCodeLoader: Unable to load native-hadoop library for your platform... using builtin-java classes where applicable\n"
     ]
    }
   ],
   "source": [
    "from pyspark.sql import SparkSession\n",
    "\n",
    "spark = SparkSession.builder.appName(\"model\").config(\"fs.defaultFS\", \"file:///\").getOrCreate()\n",
    "spark.sparkContext.setLogLevel(\"ERROR\")\n",
    "\n",
    "df = spark.read.csv(\"/data/BigData/ecommerce_data_with_trends.csv\", header=True)"
   ]
  },
  {
   "cell_type": "code",
   "execution_count": 2,
   "metadata": {},
   "outputs": [
    {
     "name": "stderr",
     "output_type": "stream",
     "text": [
      "[Stage 1:===================>                                      (4 + 8) / 12]\r"
     ]
    },
    {
     "name": "stdout",
     "output_type": "stream",
     "text": [
      "+--------------+---------+-----------+-------------+----+-------------+------------+--------+-----+--------+------------+\n",
      "|transaction_id|timestamp|customer_id|customer_name|city|customer_type|product_name|category|price|quantity|total_amount|\n",
      "+--------------+---------+-----------+-------------+----+-------------+------------+--------+-----+--------+------------+\n",
      "|             0|        0|          0|            0|   0|            0|           0|       0|    0|       0|           0|\n",
      "+--------------+---------+-----------+-------------+----+-------------+------------+--------+-----+--------+------------+\n",
      "\n"
     ]
    },
    {
     "name": "stderr",
     "output_type": "stream",
     "text": [
      "                                                                                \r"
     ]
    }
   ],
   "source": [
    "from pyspark.sql.functions import isnan, when, count, col\n",
    "\n",
    "# Check how many null values and nan values are there in the dataframe\n",
    "df.select([count(when(col(c).isNull() | isnan(c), c)).alias(c) for c in df.columns]).show()"
   ]
  },
  {
   "cell_type": "markdown",
   "metadata": {},
   "source": [
    "# Churn Analysis"
   ]
  },
  {
   "cell_type": "code",
   "execution_count": 3,
   "metadata": {},
   "outputs": [
    {
     "name": "stderr",
     "output_type": "stream",
     "text": [
      "                                                                                \r"
     ]
    }
   ],
   "source": [
    "from churn import CustomerChurnMLAnalysis\n",
    "\n",
    "# Assuming 'spark' is your SparkSession and 'df' is your DataFrame\n",
    "ml_analysis = CustomerChurnMLAnalysis(spark, df)\n",
    "results = ml_analysis.predict_customer_churn()"
   ]
  },
  {
   "cell_type": "code",
   "execution_count": 4,
   "metadata": {},
   "outputs": [
    {
     "name": "stdout",
     "output_type": "stream",
     "text": [
      "model\n",
      "Logistic Regression:  LogisticRegressionModel: uid=LogisticRegression_a46cc214e560, numClasses=2, numFeatures=5869\n",
      "Random Forest:  RandomForestClassificationModel: uid=RandomForestClassifier_4a8f386d610d, numTrees=100, numClasses=2, numFeatures=5869\n",
      "\n",
      "predictions\n",
      "Logistic Regression: \n"
     ]
    },
    {
     "name": "stderr",
     "output_type": "stream",
     "text": [
      "                                                                                \r"
     ]
    },
    {
     "name": "stdout",
     "output_type": "stream",
     "text": [
      "+-----------+--------------------+--------------+-------------+------------------+----------------------+---------------------+--------------------+-------------------------+-----------------+------------+-----+------------------------+-------------------------------+-----------------------+-------------------+----------+--------------------------+---------------------------------+-------------------------+---------------------+-------------------+--------------------+--------------------+--------------------+--------------------+----------+\n",
      "|customer_id|       customer_name|          city|customer_type|total_transactions|avg_transaction_amount|total_purchase_amount|  last_purchase_date|unique_products_purchased|unique_categories|recency_days|churn|total_transactions_index|unique_products_purchased_index|unique_categories_index|customer_type_index|city_index|total_transactions_encoded|unique_products_purchased_encoded|unique_categories_encoded|customer_type_encoded|       city_encoded|            features|     scaled_features|       rawPrediction|         probability|prediction|\n",
      "+-----------+--------------------+--------------+-------------+------------------+----------------------+---------------------+--------------------+-------------------------+-----------------+------------+-----+------------------------+-------------------------------+-----------------------+-------------------+----------+--------------------------+---------------------------------+-------------------------+---------------------+-------------------+--------------------+--------------------+--------------------+--------------------+----------+\n",
      "|       1009|  Mr. Martin Hammond|  Joyceborough|          B2C|                88|    1640.7885227272725|   144389.38999999998|2024-10-25 07:03:...|                       76|               26|          44|    1|                    22.0|                           21.0|                    1.0|                1.0|    2311.0|           (71,[22],[1.0])|                  (58,[21],[1.0])|            (8,[1],[1.0])|        (2,[1],[1.0])|(5727,[2311],[1.0])|(5869,[0,1,2,25,9...|(5869,[0,1,2,25,9...|[-4.7140423120726...|[0.00888873276890...|       1.0|\n",
      "|       1047|        Nathan Smith|  Lake Deborah|          B2B|               102|    29135.469411764705|           2971817.88|2024-10-23 01:57:...|                       83|               26|          46|    0|                     4.0|                            7.0|                    1.0|                0.0|    2523.0|            (71,[4],[1.0])|                   (58,[7],[1.0])|            (8,[1],[1.0])|        (2,[0],[1.0])|(5727,[2523],[1.0])|(5869,[0,1,2,7,81...|(5869,[0,1,2,7,81...|[3.1403997458537,...|[0.95852877405394...|       0.0|\n",
      "|        105|      Elizabeth Ruiz|  Port Heather|          B2C|                89|    1594.3837078651684|            141900.15|2024-10-28 16:44:...|                       82|               26|          41|    1|                    19.0|                           10.0|                    1.0|                1.0|     686.0|           (71,[19],[1.0])|                  (58,[10],[1.0])|            (8,[1],[1.0])|        (2,[1],[1.0])| (5727,[686],[1.0])|(5869,[0,1,2,22,8...|(5869,[0,1,2,22,8...|[-3.7382343555728...|[0.02324298940980...|       1.0|\n",
      "|       1050|Christopher Anderson|New Karlaburgh|          B2C|                98|     1613.786632653061|   158151.08999999997|2024-10-20 14:45:...|                       87|               28|          49|    1|                     5.0|                            0.0|                    3.0|                1.0|    5727.0|            (71,[5],[1.0])|                   (58,[0],[1.0])|            (8,[3],[1.0])|        (2,[1],[1.0])|       (5727,[],[])|(5869,[0,1,2,8,74...|(5869,[0,1,2,8,74...|[-3.9967216492053...|[0.01804420610319...|       1.0|\n",
      "|        106|         Andrew Nash|    Port Stacy|          B2B|               109|     27489.97733944954|           2996407.53|2024-10-26 12:38:...|                       94|               28|          43|    0|                    20.0|                           13.0|                    3.0|                0.0|    5727.0|           (71,[20],[1.0])|                  (58,[13],[1.0])|            (8,[3],[1.0])|        (2,[0],[1.0])|       (5727,[],[])|(5869,[0,1,2,23,8...|(5869,[0,1,2,23,8...|[3.99253635751911...|[0.98188148655548...|       0.0|\n",
      "+-----------+--------------------+--------------+-------------+------------------+----------------------+---------------------+--------------------+-------------------------+-----------------+------------+-----+------------------------+-------------------------------+-----------------------+-------------------+----------+--------------------------+---------------------------------+-------------------------+---------------------+-------------------+--------------------+--------------------+--------------------+--------------------+----------+\n",
      "only showing top 5 rows\n",
      "\n",
      "Random Forest: \n"
     ]
    },
    {
     "name": "stderr",
     "output_type": "stream",
     "text": [
      "                                                                                \r"
     ]
    },
    {
     "name": "stdout",
     "output_type": "stream",
     "text": [
      "+-----------+--------------------+--------------+-------------+------------------+----------------------+---------------------+--------------------+-------------------------+-----------------+------------+-----+------------------------+-------------------------------+-----------------------+-------------------+----------+--------------------------+---------------------------------+-------------------------+---------------------+-------------------+--------------------+--------------------+--------------------+--------------------+----------+\n",
      "|customer_id|       customer_name|          city|customer_type|total_transactions|avg_transaction_amount|total_purchase_amount|  last_purchase_date|unique_products_purchased|unique_categories|recency_days|churn|total_transactions_index|unique_products_purchased_index|unique_categories_index|customer_type_index|city_index|total_transactions_encoded|unique_products_purchased_encoded|unique_categories_encoded|customer_type_encoded|       city_encoded|            features|     scaled_features|       rawPrediction|         probability|prediction|\n",
      "+-----------+--------------------+--------------+-------------+------------------+----------------------+---------------------+--------------------+-------------------------+-----------------+------------+-----+------------------------+-------------------------------+-----------------------+-------------------+----------+--------------------------+---------------------------------+-------------------------+---------------------+-------------------+--------------------+--------------------+--------------------+--------------------+----------+\n",
      "|       1009|  Mr. Martin Hammond|  Joyceborough|          B2C|                88|    1640.7885227272725|   144389.38999999998|2024-10-25 07:03:...|                       76|               26|          44|    1|                    22.0|                           21.0|                    1.0|                1.0|    2311.0|           (71,[22],[1.0])|                  (58,[21],[1.0])|            (8,[1],[1.0])|        (2,[1],[1.0])|(5727,[2311],[1.0])|(5869,[0,1,2,25,9...|(5869,[0,1,2,25,9...|[39.0285401554848...|[0.39028540155484...|       1.0|\n",
      "|       1047|        Nathan Smith|  Lake Deborah|          B2B|               102|    29135.469411764705|           2971817.88|2024-10-23 01:57:...|                       83|               26|          46|    0|                     4.0|                            7.0|                    1.0|                0.0|    2523.0|            (71,[4],[1.0])|                   (58,[7],[1.0])|            (8,[1],[1.0])|        (2,[0],[1.0])|(5727,[2523],[1.0])|(5869,[0,1,2,7,81...|(5869,[0,1,2,7,81...|[62.0421111401313...|[0.62042111140131...|       0.0|\n",
      "|        105|      Elizabeth Ruiz|  Port Heather|          B2C|                89|    1594.3837078651684|            141900.15|2024-10-28 16:44:...|                       82|               26|          41|    1|                    19.0|                           10.0|                    1.0|                1.0|     686.0|           (71,[19],[1.0])|                  (58,[10],[1.0])|            (8,[1],[1.0])|        (2,[1],[1.0])| (5727,[686],[1.0])|(5869,[0,1,2,22,8...|(5869,[0,1,2,22,8...|[39.0285401554848...|[0.39028540155484...|       1.0|\n",
      "|       1050|Christopher Anderson|New Karlaburgh|          B2C|                98|     1613.786632653061|   158151.08999999997|2024-10-20 14:45:...|                       87|               28|          49|    1|                     5.0|                            0.0|                    3.0|                1.0|    5727.0|            (71,[5],[1.0])|                   (58,[0],[1.0])|            (8,[3],[1.0])|        (2,[1],[1.0])|       (5727,[],[])|(5869,[0,1,2,8,74...|(5869,[0,1,2,8,74...|[40.1121992172766...|[0.40112199217276...|       1.0|\n",
      "|        106|         Andrew Nash|    Port Stacy|          B2B|               109|     27489.97733944954|           2996407.53|2024-10-26 12:38:...|                       94|               28|          43|    0|                    20.0|                           13.0|                    3.0|                0.0|    5727.0|           (71,[20],[1.0])|                  (58,[13],[1.0])|            (8,[3],[1.0])|        (2,[0],[1.0])|       (5727,[],[])|(5869,[0,1,2,23,8...|(5869,[0,1,2,23,8...|[62.5746945114693...|[0.62574694511469...|       0.0|\n",
      "+-----------+--------------------+--------------+-------------+------------------+----------------------+---------------------+--------------------+-------------------------+-----------------+------------+-----+------------------------+-------------------------------+-----------------------+-------------------+----------+--------------------------+---------------------------------+-------------------------+---------------------+-------------------+--------------------+--------------------+--------------------+--------------------+----------+\n",
      "only showing top 5 rows\n",
      "\n",
      "\n",
      "auc\n",
      "Logistic Regression:  0.9989131985356754\n",
      "Random Forest:  0.9998147365924872\n",
      "\n",
      "f1_score\n",
      "Logistic Regression:  0.9928549937547488\n",
      "Random Forest:  0.9931952321439372\n",
      "\n",
      "churn_summary\n",
      "Logistic Regression: \n"
     ]
    },
    {
     "name": "stderr",
     "output_type": "stream",
     "text": [
      "                                                                                \r"
     ]
    },
    {
     "name": "stdout",
     "output_type": "stream",
     "text": [
      "+-----+-----+-----------------+-------------------+------------------+\n",
      "|churn|count| avg_transactions|avg_purchase_amount|  avg_recency_days|\n",
      "+-----+-----+-----------------+-------------------+------------------+\n",
      "|    1| 1488|99.51948924731182|  179854.8714247312|43.656586021505376|\n",
      "|    0| 1451|99.86078566505859| 2833506.6143418327|43.648518263266716|\n",
      "+-----+-----+-----------------+-------------------+------------------+\n",
      "\n",
      "Random Forest: \n"
     ]
    },
    {
     "name": "stderr",
     "output_type": "stream",
     "text": [
      "                                                                                \r"
     ]
    },
    {
     "name": "stdout",
     "output_type": "stream",
     "text": [
      "+-----+-----+-----------------+-------------------+------------------+\n",
      "|churn|count| avg_transactions|avg_purchase_amount|  avg_recency_days|\n",
      "+-----+-----+-----------------+-------------------+------------------+\n",
      "|    1| 1488|99.51948924731182|  179854.8714247312|43.656586021505376|\n",
      "|    0| 1451|99.86078566505859| 2833506.6143418327|43.648518263266716|\n",
      "+-----+-----+-----------------+-------------------+------------------+\n",
      "\n",
      "\n",
      "+--------------------+--------------------+\n",
      "|             feature|          importance|\n",
      "+--------------------+--------------------+\n",
      "|  total_transactions|  0.9858087891895526|\n",
      "|avg_transaction_a...|   0.979533797525071|\n",
      "|total_purchase_am...| 0.09788911977499148|\n",
      "|                city|0.022426256493271433|\n",
      "|       customer_type|0.011639538027176231|\n",
      "|unique_products_p...|0.010984638539580021|\n",
      "|        recency_days| 0.00796190357723674|\n",
      "|   unique_categories|0.002555806199948...|\n",
      "+--------------------+--------------------+\n",
      "\n"
     ]
    }
   ],
   "source": [
    "lr =  results['logistic_regression']\n",
    "rf = results['random_forest']\n",
    "for key in rf.keys():\n",
    "    if key == 'predictions' or key == 'churn_summary'or key == 'feature_importance':\n",
    "        print(key)\n",
    "        print('Logistic Regression: ')\n",
    "        lr[key].show(5)\n",
    "        print('Random Forest: ')\n",
    "        rf[key].show(5)\n",
    "    else:\n",
    "        print(key)\n",
    "        print('Logistic Regression: ', lr[key])\n",
    "        print('Random Forest: ', rf[key])\n",
    "    print('')\n",
    "\n",
    "lr['feature_importance'].show()\n"
   ]
  },
  {
   "cell_type": "markdown",
   "metadata": {},
   "source": [
    "# Customer Segmentation"
   ]
  },
  {
   "cell_type": "code",
   "execution_count": 5,
   "metadata": {},
   "outputs": [
    {
     "name": "stderr",
     "output_type": "stream",
     "text": [
      "                                                                                \r"
     ]
    },
    {
     "name": "stdout",
     "output_type": "stream",
     "text": [
      "-0.061620028883509544\n"
     ]
    }
   ],
   "source": [
    "from customer_seg import CustomerSegMLAnalysis\n",
    "\n",
    "ml_analysis = CustomerSegMLAnalysis(spark, df)\n",
    "clustered_customers_df, silhouette = ml_analysis.cluster_customers(k=10)\n",
    "print(silhouette)"
   ]
  },
  {
   "cell_type": "code",
   "execution_count": 6,
   "metadata": {},
   "outputs": [
    {
     "name": "stdout",
     "output_type": "stream",
     "text": [
      "Cluster 0:\n",
      "+-----------+--------------------+-------+--------------------+--------------------+\n",
      "|customer_id|       customer_name|cluster|         top_product|   spending_variance|\n",
      "+-----------+--------------------+-------+--------------------+--------------------+\n",
      "|       1001|      Nicholas Wolfe|      0|Accessories Produ...|4.7139714837479126E8|\n",
      "|       1009|  Mr. Martin Hammond|      0|Supplements Produ...|  1233305.8830931948|\n",
      "|       1015|        William Tran|      0|     Audio Product_7|5.1819040292093205E8|\n",
      "|       1029|     Nicole Carrillo|      0|Kitchen Appliance...|  1519026.2154582455|\n",
      "|       1047|        Nathan Smith|      0|Personal Care Pro...| 4.597733439227818E8|\n",
      "|       1049|         Julia Hines|      0|Home Decor Product_9| 5.657236510934278E8|\n",
      "|        105|      Elizabeth Ruiz|      0|   Bedding Product_8|  1416754.4615485955|\n",
      "|       1050|Christopher Anderson|      0|  Cameras Product_10|  1532092.4847565852|\n",
      "|       1053|      Zachary Morris|      0|     Shoes Product_8|   1476288.370650649|\n",
      "|       1056|         Caleb Allen|      0|Non-Fiction Produ...|  1515644.5890796126|\n",
      "|        106|         Andrew Nash|      0|   Camping Product_3| 4.812447753664883E8|\n",
      "|       1062|         Corey Reyes|      0|Accessories Produ...|4.3498849475824505E8|\n",
      "|       1080|       Alyssa Cooper|      0|Home Decor Product_7|   1861222.831790406|\n",
      "|       1092|       Tonya Parrish|      0|Supplements Produ...| 5.547182325238799E8|\n",
      "|       1093|   Russell Schneider|      0|Outdoor Apparel P...| 5.515170826381195E8|\n",
      "|       1098|       Ryan Anderson|      0|Furniture Product_10|4.7780901338389415E8|\n",
      "|       1099|          Jack Moore|      0|Kitchen Appliance...|  1820027.9021633065|\n",
      "|       1102|     Heather Bennett|      0|Kitchen Appliance...|  4.87317375910648E8|\n",
      "|       1113|     Roberto Pacheco|      0|  Fiction Product_10| 5.188235920208079E8|\n",
      "|       1143|         Julie Weiss|      0|Outdoor Apparel P...| 5.895871394992687E8|\n",
      "+-----------+--------------------+-------+--------------------+--------------------+\n",
      "only showing top 20 rows\n",
      "\n",
      "Cluster 1:\n",
      "+-----------+-----------------+-------+--------------------+--------------------+\n",
      "|customer_id|    customer_name|cluster|         top_product|   spending_variance|\n",
      "+-----------+-----------------+-------+--------------------+--------------------+\n",
      "|       3445|Amanda Wilson PhD|      1|Outdoor Apparel P...| 5.838654010474257E8|\n",
      "|       6574|     Todd Cochran|      1|Outdoor Apparel P...| 5.497129252715663E8|\n",
      "|       1714|  Rachel Townsend|      1|Outdoor Apparel P...|  1435699.6740005799|\n",
      "|       5120|    Megan Randall|      1|Outdoor Apparel P...| 4.137480156832681E8|\n",
      "|       6563|     Lisa Hubbard|      1|Outdoor Apparel P...| 4.836279950999527E8|\n",
      "|       7102|     Chad Stevens|      1|Outdoor Apparel P...|4.9091565998208743E8|\n",
      "|       7912|     Ashley Craig|      1|Outdoor Apparel P...| 5.804021008765128E8|\n",
      "|       8825|  Benjamin Norton|      1|Outdoor Apparel P...|  1881352.7168837043|\n",
      "|       3305|    Brandon Clark|      1|Outdoor Apparel P...|  1522575.7502120403|\n",
      "|        562|  Joshua Sandoval|      1|Outdoor Apparel P...| 4.970571681686037E8|\n",
      "|        831|     Kelly Barker|      1|Outdoor Apparel P...| 4.917777844283781E8|\n",
      "|       9550| Richard Hamilton|      1|Outdoor Apparel P...|5.0048967857722807E8|\n",
      "|       1770|   Laura Martinez|      1|Outdoor Apparel P...| 5.078634039531702E8|\n",
      "|       4463|  Joan Richardson|      1|Outdoor Apparel P...|  1246088.9837101172|\n",
      "|       5098|       John Brown|      1|Outdoor Apparel P...|   1287070.733919051|\n",
      "|       5567| Christopher Lane|      1|Outdoor Apparel P...|  1342441.9074621622|\n",
      "|        651|   Charles Nguyen|      1|Outdoor Apparel P...|  1302338.3696716956|\n",
      "|       6715|    Tammy Chapman|      1|Outdoor Apparel P...|5.1874957726619214E8|\n",
      "|        136|    Michael Brown|      1|Outdoor Apparel P...| 5.170648259888825E8|\n",
      "|       1710|  Heather Michael|      1|Outdoor Apparel P...|  1460382.0936318112|\n",
      "+-----------+-----------------+-------+--------------------+--------------------+\n",
      "only showing top 20 rows\n",
      "\n",
      "Cluster 2:\n",
      "+-----------+------------------+-------+--------------------+--------------------+\n",
      "|customer_id|     customer_name|cluster|         top_product|   spending_variance|\n",
      "+-----------+------------------+-------+--------------------+--------------------+\n",
      "|       1181|         Chad Cook|      2|Men's Clothing Pr...|  1756849.7944447068|\n",
      "|       3322| Christopher Lynch|      2|Men's Clothing Pr...|  1395940.2759778018|\n",
      "|       7402|   Sarah Henderson|      2|Men's Clothing Pr...|  1217719.6656387537|\n",
      "|       2771|       Laura Smith|      2|Men's Clothing Pr...| 3.630693703203945E8|\n",
      "|       8073|     Paul Mcdaniel|      2|Men's Clothing Pr...| 5.470245772976395E8|\n",
      "|       4784|        Lisa Irwin|      2|Men's Clothing Pr...|  1658606.3367325047|\n",
      "|       7872|   Stephanie Brown|      2|Men's Clothing Pr...|  1516101.4120588333|\n",
      "|       3634|      Stacy Jensen|      2|Men's Clothing Pr...|5.0540348727394485E8|\n",
      "|       3651|       Debra Smith|      2|Men's Clothing Pr...|   1583826.434694306|\n",
      "|       4823|        Adam Jones|      2|Men's Clothing Pr...|  5.03910121253546E8|\n",
      "|       7884|Christopher Conrad|      2|Men's Clothing Pr...|5.3193738908253676E8|\n",
      "|       8330|   Patrick Sanchez|      2|Men's Clothing Pr...|4.1676045006740093E8|\n",
      "|       3019|      Tiffany Hill|      2|Men's Clothing Pr...| 5.576574110699717E8|\n",
      "|       5898|    Ronald Hubbard|      2|Men's Clothing Pr...|4.8433140598823494E8|\n",
      "|        881|         John Soto|      2|Men's Clothing Pr...| 4.105514285798917E8|\n",
      "|       5111|       Kelsey Bell|      2|Men's Clothing Pr...| 3.873134128338252E8|\n",
      "|       5321|        Donna Long|      2|Men's Clothing Pr...|  1318152.2577964505|\n",
      "|       5392|   Deborah Harding|      2|Men's Clothing Pr...|   1948061.895352273|\n",
      "|       6351|     Mary Mitchell|      2|Men's Clothing Pr...|  1301416.5002930097|\n",
      "|       9787|       David Brock|      2|Men's Clothing Pr...|  1192991.0200973612|\n",
      "+-----------+------------------+-------+--------------------+--------------------+\n",
      "only showing top 20 rows\n",
      "\n",
      "Cluster 3:\n",
      "+-----------+----------------+-------+--------------------+--------------------+\n",
      "|customer_id|   customer_name|cluster|         top_product|   spending_variance|\n",
      "+-----------+----------------+-------+--------------------+--------------------+\n",
      "|        425|  Martin Rowland|      3|Non-Fiction Produ...| 3.543264893002325E8|\n",
      "|       6894|      Molly Pena|      3|Non-Fiction Produ...|  1533393.2391737972|\n",
      "|       1446|  Donald Vasquez|      3|Non-Fiction Produ...|5.0682472611385465E8|\n",
      "|       2308|     Mark Newton|      3|Non-Fiction Produ...|  1493854.8208930644|\n",
      "|       2896|     Linda Moore|      3|Non-Fiction Produ...|  1424402.3476053677|\n",
      "|       6995|  Phillip Murphy|      3|Non-Fiction Produ...| 4.732283884503056E8|\n",
      "|       8674|     Diana Potts|      3|Non-Fiction Produ...|   1900652.566234483|\n",
      "|        982|     Rachel West|      3|Non-Fiction Produ...|5.1543866695556515E8|\n",
      "|       4589|      Amy Thomas|      3|Non-Fiction Produ...|   1626721.935871282|\n",
      "|       8362|     Debra Weber|      3|Non-Fiction Produ...|   1244516.802538197|\n",
      "|       1960| Justin Gonzales|      3|Non-Fiction Produ...|  1476848.9883988388|\n",
      "|       3177|    Shawn Barber|      3|Non-Fiction Produ...|  1243727.0954267164|\n",
      "|       1449| Katelyn Kennedy|      3|Non-Fiction Produ...|  1208130.5377980918|\n",
      "|       8162|Richard Crawford|      3|Non-Fiction Produ...|   1706967.282301576|\n",
      "|       8466|   Michael Mckay|      3|Non-Fiction Produ...|5.1020671235876024E8|\n",
      "|       8485| Kenneth Sanchez|      3|Non-Fiction Produ...|  1311393.5979925522|\n",
      "|       1018|   Bill Cardenas|      3|Non-Fiction Produ...|  1501863.9654641505|\n",
      "|       9571|     Steven Lane|      3|Non-Fiction Produ...|  1469964.9625207265|\n",
      "|       1230|Nicole Contreras|      3|Non-Fiction Produ...| 4.551630475193088E8|\n",
      "|       4659|    Isaac Wright|      3|Non-Fiction Produ...| 5.416455179433551E8|\n",
      "+-----------+----------------+-------+--------------------+--------------------+\n",
      "only showing top 20 rows\n",
      "\n",
      "Cluster 4:\n",
      "+-----------+--------------------+-------+-----------------+--------------------+\n",
      "|customer_id|       customer_name|cluster|      top_product|   spending_variance|\n",
      "+-----------+--------------------+-------+-----------------+--------------------+\n",
      "|        251|         Ryan Wilson|      4|Comics Product_10|  1258800.1837337287|\n",
      "|       2532|        Sarah Hardin|      4|Comics Product_10|  1205215.3686093516|\n",
      "|       5685|       Adrian Murphy|      4|Comics Product_10|  1306680.4645239485|\n",
      "|       2470|    Valerie Martinez|      4|Comics Product_10| 3.770651444635747E8|\n",
      "|        336|          Mary Young|      4|Comics Product_10|  1412000.6927947437|\n",
      "|       4677|           Marc Yang|      4|Comics Product_10|   1239133.312320417|\n",
      "|       4633|Mrs. Diane Lopez DDS|      4|Comics Product_10|  1622177.3492842102|\n",
      "|       2023|         John Bryant|      4|Comics Product_10|4.3375210945331645E8|\n",
      "|       2573|       Chelsea Smith|      4|Comics Product_10|  1364314.3009585051|\n",
      "|       9099|      Stephen Brooks|      4|Comics Product_10|  1704920.5589128758|\n",
      "|        970|      Carrie Roberts|      4|Comics Product_10| 5.437243022937564E8|\n",
      "|        485|        Julie Butler|      4|Comics Product_10|  1645579.1208384703|\n",
      "|       5046|        Melissa Park|      4|Comics Product_10|  1546025.3234141897|\n",
      "|       5810|       Laura Johnson|      4|Comics Product_10| 4.162999293166135E8|\n",
      "|       6210|       Sherri Suarez|      4|Comics Product_10| 4.470052897867743E8|\n",
      "|       7082|      Caitlin Harris|      4|Comics Product_10| 4.809752898606789E8|\n",
      "|       8697|         Derek Hobbs|      4|Comics Product_10| 5.400325275884732E8|\n",
      "|       2968|        April Golden|      4|Comics Product_10|  1541764.6184540347|\n",
      "|       3568|       Zachary Brown|      4|Comics Product_10|  5.14079826670062E8|\n",
      "|       9144|      Patrick Juarez|      4|Comics Product_10|4.8453372073436123E8|\n",
      "+-----------+--------------------+-------+-----------------+--------------------+\n",
      "only showing top 20 rows\n",
      "\n",
      "Cluster 5:\n",
      "+-----------+-------------------+-------+--------------------+--------------------+\n",
      "|customer_id|      customer_name|cluster|         top_product|   spending_variance|\n",
      "+-----------+-------------------+-------+--------------------+--------------------+\n",
      "|       2387|   Jennifer Elliott|      5|Women's Clothing ...|  1414738.2592955604|\n",
      "|       3343|         John Grant|      5|Women's Clothing ...| 5.788464704422274E8|\n",
      "|        417|      Michael Black|      5|Women's Clothing ...| 5.974641537407335E8|\n",
      "|       6653|        Sean Garcia|      5|Women's Clothing ...|  1506007.2596021686|\n",
      "|       1466|      Ellen Hawkins|      5|Women's Clothing ...|  1522660.3724633707|\n",
      "|       2215|   Kathryn Espinoza|      5|Women's Clothing ...|  1409420.8440539252|\n",
      "|       2316|  Shannon Hernandez|      5|Women's Clothing ...|   1198777.161503782|\n",
      "|       3444|        Chase Ramos|      5|Women's Clothing ...|  1334337.9967969782|\n",
      "|       8670|    Hayden Harrison|      5|Women's Clothing ...|  1497156.4826268314|\n",
      "|       1270|       Nathan Scott|      5|Women's Clothing ...|3.8140585826004064E8|\n",
      "|       5441|     Kelly Anderson|      5|Women's Clothing ...| 6.652834831487315E8|\n",
      "|       5893|        Derek Mccoy|      5|Women's Clothing ...| 5.395485797810754E8|\n",
      "|       1413|        Henry Jones|      5|Women's Clothing ...|   1422224.575315534|\n",
      "|        352|       Debra Barnes|      5|Women's Clothing ...|  1606174.0567687943|\n",
      "|       6163|     Rebecca Bailey|      5|Women's Clothing ...|4.7291793720250905E8|\n",
      "|       6230|    Micheal Raymond|      5|Women's Clothing ...|    1476282.98812533|\n",
      "|       7503|          Sara King|      5|Women's Clothing ...|3.4821818339241827E8|\n",
      "|       6157|       Johnny Wolfe|      5|Women's Clothing ...|  1606573.1105312766|\n",
      "|       6590|Dr. Jonathan Taylor|      5|Women's Clothing ...| 5.622195678063986E8|\n",
      "|       6620|       Maria Martin|      5|Women's Clothing ...|4.5420154616945004E8|\n",
      "+-----------+-------------------+-------+--------------------+--------------------+\n",
      "only showing top 20 rows\n",
      "\n",
      "Cluster 6:\n",
      "+-----------+-----------------+-------+---------------+--------------------+\n",
      "|customer_id|    customer_name|cluster|    top_product|   spending_variance|\n",
      "+-----------+-----------------+-------+---------------+--------------------+\n",
      "|       2367|    Teresa Harvey|      6|Tools Product_4|4.9804969186637264E8|\n",
      "|        432|  Russell Fleming|      6|Tools Product_4|  1237831.2735746566|\n",
      "|        392|    Justin Garcia|      6|Tools Product_4|  1308222.9467821477|\n",
      "|       6508|  Megan Hernandez|      6|Tools Product_4| 3.327032357648273E8|\n",
      "|       2355| Kathleen Jackson|      6|Tools Product_4|4.3607129502772135E8|\n",
      "|       4122|    Natalie Wells|      6|Tools Product_4|4.8723993397115487E8|\n",
      "|       5350|       Paul Jones|      6|Tools Product_4|  1349241.9821386393|\n",
      "|       7002|     Timothy Wood|      6|Tools Product_4|  1366379.4699762869|\n",
      "|       7889|     Carrie James|      6|Tools Product_4| 5.797806378191504E8|\n",
      "|        804|    Carrie Benton|      6|Tools Product_4|   1294333.117714417|\n",
      "|       3798|    Daniel Acosta|      6|Tools Product_4|  1378146.7839888318|\n",
      "|       3939|   Jessica Wilson|      6|Tools Product_4| 5.469795269307231E8|\n",
      "|       8761|      Robin Henry|      6|Tools Product_4|  1282251.2221491819|\n",
      "|       8911|  Alexander Burns|      6|Tools Product_4|  1389976.2962490479|\n",
      "|       9168|    Sandy Leblanc|      6|Tools Product_4| 4.694129418799179E8|\n",
      "|       1966|     Rebecca Paul|      6|Tools Product_4| 3.303442322820704E8|\n",
      "|       2397|Michelle Castillo|      6|Tools Product_4| 3.280282984660009E8|\n",
      "|       4962|    Kelly Baldwin|      6|Tools Product_4|  1529707.5390268913|\n",
      "|       7181|     Daniel Lopez|      6|Tools Product_4|  1449831.8689913414|\n",
      "|       3837|      Terry Green|      6|Tools Product_4|  1589535.3237859597|\n",
      "+-----------+-----------------+-------+---------------+--------------------+\n",
      "only showing top 20 rows\n",
      "\n",
      "Cluster 7:\n",
      "+-----------+-----------------+-------+------------------+--------------------+\n",
      "|customer_id|    customer_name|cluster|       top_product|   spending_variance|\n",
      "+-----------+-----------------+-------+------------------+--------------------+\n",
      "|       2890|  Derrick Pacheco|      7|Skincare Product_6|4.2731418872096795E8|\n",
      "|       6553|Julia Bennett DVM|      7|Skincare Product_6|  1145921.5979389744|\n",
      "|         75|     Larry Miller|      7|Skincare Product_6| 4.881642179937566E8|\n",
      "|       2729|      Cathy Baker|      7|Skincare Product_6| 4.751915091370034E8|\n",
      "|       4031|  Jacqueline Hall|      7|Skincare Product_6| 4.686970495598455E8|\n",
      "|       2248|      Jaclyn Cook|      7|Skincare Product_6| 5.688799000823116E8|\n",
      "|       4647|     Emily Harvey|      7|Skincare Product_6| 4.434487486710313E8|\n",
      "|       5136| Deborah Hamilton|      7|Skincare Product_6| 5.256159615384328E8|\n",
      "|       9241|   Michael Nelson|      7|Skincare Product_6|  1637002.4253110157|\n",
      "|       1096|      Ellen Jones|      7|Skincare Product_6| 5.994225734275774E8|\n",
      "|       5916|   Sandra Murillo|      7|Skincare Product_6|4.8379134375709003E8|\n",
      "|       6434|   Leslie Mathews|      7|Skincare Product_6|4.6663653198908013E8|\n",
      "|        709|Andrea Durham DVM|      7|Skincare Product_6|   1409603.884365921|\n",
      "|       9805|    Brenda Joseph|      7|Skincare Product_6|  1411824.5091444443|\n",
      "|       2875|  Candice Johnson|      7|Skincare Product_6|   1260983.276816512|\n",
      "|       6943|   Dennis Clayton|      7|Skincare Product_6|   1318547.831943967|\n",
      "|       5467|     Ricky Nelson|      7|Skincare Product_6|3.7469368382927775E8|\n",
      "|        577|       Ryan Smith|      7|Skincare Product_6| 5.024143800718552E8|\n",
      "|       1072|   Molly Trujillo|      7|Skincare Product_6| 6.266991687777631E8|\n",
      "|       1875|  Theresa Shannon|      7|Skincare Product_6| 5.669305382112361E8|\n",
      "+-----------+-----------------+-------+------------------+--------------------+\n",
      "only showing top 20 rows\n",
      "\n",
      "Cluster 8:\n",
      "+-----------+---------------+-------+-----------------+--------------------+\n",
      "|customer_id|  customer_name|cluster|      top_product|   spending_variance|\n",
      "+-----------+---------------+-------+-----------------+--------------------+\n",
      "|       1178|   Adam Collins|      8|Comics Product_12|  1417276.5285052306|\n",
      "|       2762|  Frank Johnson|      8|Comics Product_12|  1541530.6696680076|\n",
      "|       3102|   Joseph Evans|      8|Comics Product_12|3.0948762977263165E8|\n",
      "|       2115|  Joshua Rhodes|      8|Comics Product_12|  1436128.0099852746|\n",
      "|        272|    Tanya Wells|      8|Comics Product_12|4.2911001744487244E8|\n",
      "|       6739|   Justin Smith|      8|Comics Product_12| 4.567213235786895E8|\n",
      "|       6788| Rebecca Abbott|      8|Comics Product_12| 4.627912767705249E8|\n",
      "|       8056|Benjamin Jacobs|      8|Comics Product_12|5.0672655515772563E8|\n",
      "|        662|  Melissa Dixon|      8|Comics Product_12|  1272420.1885335292|\n",
      "|       2832| Holly Erickson|      8|Comics Product_12| 6.154497949914689E8|\n",
      "|       6070| Shannon Wagner|      8|Comics Product_12|   1376106.476138283|\n",
      "|       6782|William Barrett|      8|Comics Product_12|  1612088.2160904387|\n",
      "|       7894|    Amanda Tran|      8|Comics Product_12|4.8188238145980227E8|\n",
      "|       9115|   Shelby Brown|      8|Comics Product_12|   1236189.776210765|\n",
      "|       3085|  Brianna Cohen|      8|Comics Product_12|  1410620.0173016696|\n",
      "|       3858| Joshua Rosario|      8|Comics Product_12| 4.532578507235904E8|\n",
      "|       5249|Michael Camacho|      8|Comics Product_12| 4.810037085428475E8|\n",
      "|       5732|   Lauren Mills|      8|Comics Product_12|   1500784.683221492|\n",
      "|       7657| Vanessa Savage|      8|Comics Product_12|  1412284.9097110438|\n",
      "|       3415|     Marco West|      8|Comics Product_12|  1187071.2176777818|\n",
      "+-----------+---------------+-------+-----------------+--------------------+\n",
      "only showing top 20 rows\n",
      "\n",
      "Cluster 9:\n",
      "+-----------+------------------+-------+--------------------+--------------------+\n",
      "|customer_id|     customer_name|cluster|         top_product|   spending_variance|\n",
      "+-----------+------------------+-------+--------------------+--------------------+\n",
      "|       1119|       John Gibson|      9|Outdoor Apparel P...|  1480284.5372307275|\n",
      "|       8574|    Corey Campbell|      9|Outdoor Apparel P...| 5.377964385821624E8|\n",
      "|       9876|      Sarah Reilly|      9|Outdoor Apparel P...|  1618682.2550448093|\n",
      "|       5105|      Jason Thomas|      9|Outdoor Apparel P...|  1350906.2084865358|\n",
      "|       6332|        Mark Reyes|      9|Outdoor Apparel P...|   1766337.772807968|\n",
      "|       9270|       Sharon Sosa|      9|Outdoor Apparel P...| 4.253142162843973E8|\n",
      "|        138|        Tammy Horn|      9|Outdoor Apparel P...|  1371681.9007845744|\n",
      "|       2856|   Justin Phillips|      9|Outdoor Apparel P...|  1750133.4658447497|\n",
      "|       3796|       Sarah Olson|      9|Outdoor Apparel P...|  1210687.4511362722|\n",
      "|       8043|  Catherine Barnes|      9|Outdoor Apparel P...|  1287506.4708536202|\n",
      "|       8807|      Ian Campbell|      9|Outdoor Apparel P...| 3.889541114463538E8|\n",
      "|       9287|    Anthony Miller|      9|Outdoor Apparel P...|  1237658.2255332845|\n",
      "|       2595|   Michael Johnson|      9|Outdoor Apparel P...|4.2160530959544164E8|\n",
      "|        379|      Erika Foster|      9|Outdoor Apparel P...|  1498496.7484399704|\n",
      "|       4424|       Traci White|      9|Outdoor Apparel P...|5.1050474030608875E8|\n",
      "|        608|Stephanie Castillo|      9|Outdoor Apparel P...|  1388281.0840756232|\n",
      "|       1237|   Heather Alvarez|      9|Outdoor Apparel P...| 4.520616029156948E8|\n",
      "|       2353|     Miguel Flores|      9|Outdoor Apparel P...| 4.684975629132543E8|\n",
      "|       5433|    Omar Hernandez|      9|Outdoor Apparel P...| 4.734197840049172E8|\n",
      "|       6025|     Stacie Moreno|      9|Outdoor Apparel P...|  1554418.7796524523|\n",
      "+-----------+------------------+-------+--------------------+--------------------+\n",
      "only showing top 20 rows\n",
      "\n"
     ]
    }
   ],
   "source": [
    "# Assuming `clustered_customers_df` is a PySpark DataFrame\n",
    "for cluster_id in range(10):  # Loop through all clusters\n",
    "    print(f\"Cluster {cluster_id}:\")\n",
    "    clustered_customers_df.filter(clustered_customers_df.cluster == cluster_id).show()"
   ]
  }
 ],
 "metadata": {
  "kernelspec": {
   "display_name": ".venv",
   "language": "python",
   "name": "python3"
  },
  "language_info": {
   "codemirror_mode": {
    "name": "ipython",
    "version": 3
   },
   "file_extension": ".py",
   "mimetype": "text/x-python",
   "name": "python",
   "nbconvert_exporter": "python",
   "pygments_lexer": "ipython3",
   "version": "3.11.10"
  }
 },
 "nbformat": 4,
 "nbformat_minor": 2
}
